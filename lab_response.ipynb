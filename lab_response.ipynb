{
 "cells": [
  {
   "cell_type": "code",
   "execution_count": null,
   "metadata": {},
   "outputs": [],
   "source": [
    "%matplotlib inline\n",
    "\n",
    "# first time user needs obspy, it will be installed\n",
    "#try:\n",
    "#    import obspy\n",
    "#except:\n",
    "#    !pip install obspy --user\n",
    "#    import obspy\n",
    "\n",
    "import matplotlib.pyplot as plt\n",
    "plt.style.use('ggplot')\n",
    "plt.rcParams['figure.figsize'] = 10, 5\n",
    "from obspy.clients.fdsn import Client\n",
    "import obspy\n",
    "\n",
    "# Python adaptation of lab_response.m by Carl Tape.\n",
    "# Adapted from Lion Krischer\n",
    "# Used in GEOS626\n",
    "# Run this cell once at the beginning of each session"
   ]
  },
  {
   "cell_type": "code",
   "execution_count": null,
   "metadata": {},
   "outputs": [],
   "source": [
    "# Point ObsPy at the desired client:\n",
    "# ObsPy knows which website to connect to for many data centers.\n",
    "# For others you can also pass the full URL.\n",
    "c = Client(\"IRIS\")\n",
    "\n",
    "# Define time period for which you want data:\n",
    "starttime = obspy.UTCDateTime(2004, 12, 26, 0, 58, 50)\n",
    "# Create a new time object by adding 5 days to the previous ones. Time\n",
    "# differences are in seconds.\n",
    "endtime = starttime + 86400 * 5\n",
    "\n",
    "# This will get all stations that satisfy all constraints simultaneosly.\n",
    "inv = c.get_stations(network=\"G\", station=\"CAN\", channel=\"LHZ\", \n",
    "                     level=\"response\", \n",
    "                     starttime=starttime, endtime=endtime)\n",
    "print(inv)\n",
    "\n",
    "# Inspect the instrument response:\n",
    "inv.plot_response(min_freq=0.0001);"
   ]
  },
  {
   "cell_type": "code",
   "execution_count": null,
   "metadata": {},
   "outputs": [],
   "source": [
    "# See more details about the response:\n",
    "print(inv[0][0][0].response)\n",
    "\n",
    "# Can leave out the digitizer and FIR filters, and examine the \"simple\" pole-zero plot:\n",
    "inv[0][0][0].plot(0.0001, start_stage=1, end_stage=1);"
   ]
  },
  {
   "cell_type": "code",
   "execution_count": null,
   "metadata": {},
   "outputs": [],
   "source": [
    "# See the instrument response from displacement, velocity, and acceleration\n",
    "print(\"Displacement\")\n",
    "inv.plot_response(0.001, output=\"DISP\")\n",
    "print(\"Velocity\")\n",
    "inv.plot_response(0.001, output=\"VEL\")\n",
    "print(\"Acceleration\")\n",
    "inv.plot_response(0.001, output=\"ACC\");"
   ]
  },
  {
   "cell_type": "code",
   "execution_count": null,
   "metadata": {},
   "outputs": [],
   "source": []
  }
 ],
 "metadata": {
  "kernelspec": {
   "display_name": "Python 3",
   "language": "python",
   "name": "python3"
  },
  "language_info": {
   "codemirror_mode": {
    "name": "ipython",
    "version": 3
   },
   "file_extension": ".py",
   "mimetype": "text/x-python",
   "name": "python",
   "nbconvert_exporter": "python",
   "pygments_lexer": "ipython3",
   "version": "3.8.6"
  }
 },
 "nbformat": 4,
 "nbformat_minor": 4
}
