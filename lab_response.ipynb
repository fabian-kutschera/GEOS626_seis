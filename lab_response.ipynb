{
 "cells": [
  {
   "cell_type": "code",
   "execution_count": null,
   "metadata": {},
   "outputs": [],
   "source": [
    "%matplotlib inline\n",
    "\n",
    "# first time user needs obspy, it will be installed\n",
    "try:\n",
    "    import obspy\n",
    "    from obspy.clients.fdsn import Client\n",
    "except:\n",
    "    !pip install obspy --user\n",
    "    import obspy\n",
    "    from obspy.clients.fdsn import Client\n",
    "\n",
    "import matplotlib.pyplot as plt\n",
    "import numpy as np\n",
    "plt.style.use('ggplot')\n",
    "plt.rcParams['figure.figsize'] = 10, 5\n",
    "\n",
    "# Python adaptation of lab_response.m by Carl Tape.\n",
    "# Adapted from Lion Krischer\n",
    "# Coding by Amanda McPherson, 2020\n",
    "# Used in GEOS626\n",
    "# Run this cell once at the beginning of each session"
   ]
  },
  {
   "cell_type": "code",
   "execution_count": null,
   "metadata": {},
   "outputs": [],
   "source": [
    "# Point ObsPy at the desired client:\n",
    "# ObsPy knows which website to connect to for many data centers.\n",
    "# For others you can also pass the full URL.\n",
    "c = Client(\"IRIS\")\n",
    "\n",
    "# Define time period for which you want data:\n",
    "starttime = obspy.UTCDateTime(2004, 12, 26, 0, 58, 50)\n",
    "# Create a new time object by adding 5 days to the previous ones. Time\n",
    "# differences are in seconds.\n",
    "endtime = starttime + 86400 * 5\n",
    "\n",
    "# This will get all stations that satisfy all constraints simultaneosly.\n",
    "inv = c.get_stations(network=\"G\", station=\"CAN\", channel=\"BHZ\", \n",
    "                     level=\"response\", \n",
    "                     starttime=starttime, endtime=endtime)\n",
    "print(inv)\n",
    "\n",
    "# Inspect the instrument response:\n",
    "inv.plot_response(min_freq=0.0001);"
   ]
  },
  {
   "cell_type": "code",
   "execution_count": null,
   "metadata": {},
   "outputs": [],
   "source": [
    "# See more details about the response:\n",
    "print(inv[0][0][0].response)\n",
    "\n",
    "# Can leave out the digitizer and FIR filters, and examine the \"simple\" pole-zero plot:\n",
    "inv[0][0][0].plot(0.0001, start_stage=1, end_stage=1);"
   ]
  },
  {
   "cell_type": "code",
   "execution_count": null,
   "metadata": {},
   "outputs": [],
   "source": [
    "# See the instrument response from displacement, velocity, and acceleration\n",
    "print(\"Displacement\")\n",
    "inv[0][0][0].plot(0.0001, start_stage=1, end_stage=1, output=\"DISP\");\n",
    "print(\"Velocity\")\n",
    "inv[0][0][0].plot(0.0001, start_stage=1, end_stage=1, output=\"VEL\");\n",
    "print(\"Acceleration\")\n",
    "inv[0][0][0].plot(0.0001, start_stage=1, end_stage=1, output=\"ACC\");"
   ]
  },
  {
   "cell_type": "code",
   "execution_count": null,
   "metadata": {},
   "outputs": [],
   "source": [
    "# evaluate the response for a set of frequencies\n",
    "f = np.logspace(-4.0, 2.0, num=100)\n",
    "\n",
    "Id = inv[0][0][0].response.get_evalresp_response_for_frequencies(f,output='DISP')\n",
    "max_Id = max(Id)\n",
    "f_id = f[np.nonzero(Id == max_Id)]\n",
    "\n",
    "Iv = inv[0][0][0].response.get_evalresp_response_for_frequencies(f,output='VEL')\n",
    "max_Iv = max(Iv)\n",
    "f_iv = f[np.nonzero(Iv == max_Iv)]\n",
    "\n",
    "Ia = inv[0][0][0].response.get_evalresp_response_for_frequencies(f,output='ACC')\n",
    "max_Ia = max(Ia)\n",
    "f_ia = f[np.nonzero(Ia == max_Ia)]\n",
    "\n",
    "fig, ax = plt.subplots(3,2,figsize=(10,12))\n",
    "\n",
    "ax[0,0].semilogx(f,np.angle(Id)*180/np.pi, color='b')\n",
    "ax[0,0].set(xlabel='Frequency (Hz)', ylabel='Phase (deg)')\n",
    "ax[0,1].loglog(f,abs(Id), color='b')\n",
    "ax[0,1].set(xlabel='Frequency (Hz)', ylabel='Amplitude')\n",
    "ax[0,1].set_title('(meters to counts) max = %.3e at %.3e Hz'% (np.real(max_Id),f_id),fontsize=10)\n",
    "\n",
    "ax[1,0].semilogx(f,np.angle(Iv)*180/np.pi, color='b')\n",
    "ax[1,0].set(xlabel='Frequency (Hz)', ylabel='Phase (deg)')\n",
    "ax[1,1].loglog(f,abs(Iv), color='b')\n",
    "ax[1,1].set(xlabel='Frequency (Hz)', ylabel='Amplitude')\n",
    "ax[1,1].set_title('(meters to counts) max = %.3e at %.3e Hz'% (np.real(max_Iv),f_iv),fontsize=10)\n",
    "\n",
    "ax[2,0].semilogx(f,np.angle(Ia)*180/np.pi, color='b')\n",
    "ax[2,0].set(xlabel='Frequency (Hz)', ylabel='Phase (deg)')\n",
    "ax[2,1].loglog(f,abs(Ia), color='b')\n",
    "ax[2,1].set(xlabel='Frequency (Hz)', ylabel='Amplitude')\n",
    "ax[2,1].set_title('(meters to counts) max = %.3e at %.3e Hz'% (np.real(max_Ia),f_ia),fontsize=10)\n",
    "\n",
    "plt.subplots_adjust(hspace=0.5)\n",
    "plt.show()"
   ]
  },
  {
   "cell_type": "code",
   "execution_count": null,
   "metadata": {},
   "outputs": [],
   "source": []
  }
 ],
 "metadata": {
  "kernelspec": {
   "display_name": "seismo",
   "language": "python",
   "name": "seismo"
  },
  "language_info": {
   "codemirror_mode": {
    "name": "ipython",
    "version": 3
   },
   "file_extension": ".py",
   "mimetype": "text/x-python",
   "name": "python",
   "nbconvert_exporter": "python",
   "pygments_lexer": "ipython3",
   "version": "3.8.3"
  }
 },
 "nbformat": 4,
 "nbformat_minor": 4
}
