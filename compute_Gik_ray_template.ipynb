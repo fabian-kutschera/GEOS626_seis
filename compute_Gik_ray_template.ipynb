{
 "cells": [
  {
   "cell_type": "code",
   "execution_count": null,
   "metadata": {},
   "outputs": [],
   "source": [
    "%matplotlib inline\n",
    "\n",
    "import numpy as np\n",
    "import matplotlib.pyplot as plt\n",
    "\n",
    "plt.rcParams['figure.figsize'] = 10, 6\n",
    "\n",
    "# Adapted from compute_Gik_ray_template.m for Applied Seismology, GEOS 626, Carl Tape\n",
    "# Coding by Amanda McPherson, March 2021\n",
    "\n",
    "# Template script for computing an element of the partial derivatives matrix, Gik"
   ]
  },
  {
   "cell_type": "code",
   "execution_count": null,
   "metadata": {},
   "outputs": [],
   "source": [
    "# Axis limits and constants\n",
    "\n",
    "ax1 = [-120.157113, -114.809623, 32., 36.364429]\n",
    "lonmin = ax1[0]\n",
    "lonmax = ax1[1]\n",
    "latmin = ax1[2]\n",
    "latmax = ax1[3]\n",
    "earthr = 6371*1e3      # earth radius, in meters\n",
    "deg = 180/np.pi\n",
    "\n",
    "# REFERENCE HOMOGENEOUS PHASE VELOCITY\n",
    "c0 = 3500      # m/s"
   ]
  },
  {
   "cell_type": "code",
   "execution_count": null,
   "metadata": {},
   "outputs": [],
   "source": [
    "# Load data\n",
    "\n",
    "# sources\n",
    "slon, slat, sind = np.loadtxt('./data/events_lonlat.dat',unpack=True,skiprows=1)\n",
    "nsrc = len(slat)\n",
    "\n",
    "# receivers\n",
    "rlon, rlat, rind = np.loadtxt('./data/recs_lonlat.dat',unpack=True,skiprows=1)\n",
    "nrec = len(rlat)\n",
    "\n",
    "# spline centers\n",
    "clon, clat = np.loadtxt('./data/con_lonlat_q08.dat',unpack=True)\n",
    "nspline = len(clat)"
   ]
  },
  {
   "cell_type": "code",
   "execution_count": null,
   "metadata": {},
   "outputs": [],
   "source": [
    "# Plot the data\n",
    "\n",
    "plt.scatter(clon,clat,s=3)\n",
    "for num in range(1,nspline+1):\n",
    "    plt.text(clon[num-1],clat[num-1],num,size=8)\n",
    "\n",
    "plt.axis(ax1)\n",
    "plt.xlabel('Longitude')\n",
    "plt.ylabel('Latitude')\n",
    "plt.title('Center-points of spherical spline basis functions')\n",
    "plt.show()"
   ]
  },
  {
   "cell_type": "code",
   "execution_count": null,
   "metadata": {},
   "outputs": [],
   "source": [
    "# compute the design matrix\n",
    "\n",
    "# scale of spherical spline basis function\n",
    "q = 8\n",
    "\n",
    "# number of segments along each ray path\n",
    "nseg = 1000\n",
    "\n",
    "# number of measurements (one per station or ray)\n",
    "ndata = nrec*nsrc\n",
    "\n",
    "# initialize the partial derivatives matrix\n",
    "Gik = np.zeros((ndata,nspline))\n",
    "\n",
    "# FILL THE ENTRIES OF THE PARTIAL DERIVATIVES MATRIX\n",
    "\n",
    "# THIS SHOWS HOW THE MEASUREMENTS (AND ROWS OF Gik) ARE INDEXED\n",
    "print('     i  isrc irec')\n",
    "for isrc in range(nsrc):\n",
    "    for irec in range(1,nrec):\n",
    "        i = (isrc)*nrec + irec   # measurement index (row of Gik)\n",
    "        print('%6i%6i%6i'% (i,isrc+1,irec))\n",
    "        \n",
    "        \n",
    "        "
   ]
  },
  {
   "cell_type": "code",
   "execution_count": null,
   "metadata": {},
   "outputs": [],
   "source": []
  }
 ],
 "metadata": {
  "kernelspec": {
   "display_name": "seismo",
   "language": "python",
   "name": "seismo"
  },
  "language_info": {
   "codemirror_mode": {
    "name": "ipython",
    "version": 3
   },
   "file_extension": ".py",
   "mimetype": "text/x-python",
   "name": "python",
   "nbconvert_exporter": "python",
   "pygments_lexer": "ipython3",
   "version": "3.8.3"
  }
 },
 "nbformat": 4,
 "nbformat_minor": 4
}
