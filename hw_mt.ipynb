{
 "cells": [
  {
   "cell_type": "code",
   "execution_count": null,
   "metadata": {},
   "outputs": [],
   "source": [
    "%matplotlib inline  \n",
    "#%matplotlib notebook -- allows for user to rotate the sphere (with ipython)ib notebook\n",
    "\n",
    "import numpy as np\n",
    "import matplotlib.pyplot as plt\n",
    "import math as m\n",
    "from numpy import linalg as LA\n",
    "from globefun3 import globefun3\n",
    "\n",
    "# Python adaptation of hw_mt_carl.m written by Carl Tape for Applied Seismology\n",
    "# Python coding done by Nealey Sims\n",
    "# calls globefun3.py\n",
    "\n",
    "# define functions needed for homework\n",
    "\n",
    "def myrotmat(a,b):\n",
    "    \n",
    "    c=a+b\n",
    "    \n",
    "    return c\n",
    "\n",
    "def myrotmat_gen(a,b):\n",
    "    \n",
    "    c=a+b\n",
    "    \n",
    "    return c\n",
    "\n",
    "fig = plt.figure(figsize=plt.figaspect(1)*(2))\n",
    "ax=fig.add_subplot(111,projection='3d')\n",
    "globefun3(1,60,40,1,'r',fig,ax)\n",
    "\n",
    "# Plot showing 2 points\n",
    "fig2 = plt.figure(figsize=plt.figaspect(1)*(2))\n",
    "ax2=fig2.add_subplot(111,projection='3d')\n",
    "globefun3(1,60,40,1,'r',fig2,ax2)\n",
    "globefun3(1,30,50,1,'c',fig2,ax2)\n",
    "\n",
    "test=myrotmat(2,4)\n",
    "print(\"test rotmat = \", test)"
   ]
  },
  {
   "cell_type": "code",
   "execution_count": null,
   "metadata": {},
   "outputs": [],
   "source": []
  }
 ],
 "metadata": {
  "kernelspec": {
   "display_name": "pyseis",
   "language": "python",
   "name": "pyseis"
  },
  "language_info": {
   "codemirror_mode": {
    "name": "ipython",
    "version": 3
   },
   "file_extension": ".py",
   "mimetype": "text/x-python",
   "name": "python",
   "nbconvert_exporter": "python",
   "pygments_lexer": "ipython3",
   "version": "3.8.5"
  }
 },
 "nbformat": 4,
 "nbformat_minor": 4
}
