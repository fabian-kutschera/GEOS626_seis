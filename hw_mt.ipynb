{
 "cells": [
  {
   "cell_type": "code",
   "execution_count": null,
   "metadata": {},
   "outputs": [],
   "source": [
    "%matplotlib inline  \n",
    "#%matplotlib notebook -- allows for user to rotate the sphere (with ipython)ib notebook\n",
    "\n",
    "import numpy as np\n",
    "import matplotlib.pyplot as plt\n",
    "from globefun3 import globefun3\n",
    "from myrotmat import myrotmat\n",
    "\n",
    "# Python adaptation of hw_mt_carl.m written by Carl Tape for Applied Seismology\n",
    "# calls globefun3.py\n",
    "\n",
    "\n",
    "fig = plt.figure(figsize=plt.figaspect(1)*(2))\n",
    "ax=fig.add_subplot(111,projection='3d')\n",
    "globefun3(1,60,40,1,'r',fig,ax)\n",
    "\n",
    "\n",
    "test=myrotmat(2,4)\n",
    "print(test)"
   ]
  },
  {
   "cell_type": "code",
   "execution_count": null,
   "metadata": {},
   "outputs": [],
   "source": []
  }
 ],
 "metadata": {
  "kernelspec": {
   "display_name": "pyseis",
   "language": "python",
   "name": "pyseis"
  },
  "language_info": {
   "codemirror_mode": {
    "name": "ipython",
    "version": 3
   },
   "file_extension": ".py",
   "mimetype": "text/x-python",
   "name": "python",
   "nbconvert_exporter": "python",
   "pygments_lexer": "ipython3",
   "version": "3.8.5"
  }
 },
 "nbformat": 4,
 "nbformat_minor": 4
}
