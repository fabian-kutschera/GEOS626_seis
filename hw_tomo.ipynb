{
 "cells": [
  {
   "cell_type": "code",
   "execution_count": null,
   "metadata": {},
   "outputs": [],
   "source": [
    "%matplotlib inline\n",
    "\n",
    "import matplotlib.pyplot as plt\n",
    "import numpy as np\n",
    "from Bkspline import Bkspline\n",
    "from gridvec import gridvec\n",
    "from matplotlib.colors import ListedColormap as LCm\n",
    "\n",
    "plt.rcParams['figure.figsize'] = 10, 6\n",
    " \n",
    "# Template script for homework on seismic tomography for GEOS 626, Applied Seismology, Carl Tape\n",
    "# Python coding by Amanda McPherson, March 2021"
   ]
  },
  {
   "cell_type": "code",
   "execution_count": null,
   "metadata": {},
   "outputs": [],
   "source": [
    "# Load data\n",
    "\n",
    "# sources\n",
    "slon, slat, sind = np.loadtxt('./data/events_lonlat.dat',unpack=True,skiprows=1)\n",
    "nsrc = len(slat)\n",
    "\n",
    "# receivers\n",
    "rlon, rlat, rind = np.loadtxt('./data/recs_lonlat.dat',unpack=True,skiprows=1)\n",
    "nrec = len(rlat)\n",
    "\n",
    "# spline centers\n",
    "q = 8\n",
    "qlon, qlat = np.loadtxt('./data/con_lonlat_q08.dat',unpack=True)\n",
    "nspline = len(qlat)"
   ]
  },
  {
   "cell_type": "code",
   "execution_count": null,
   "metadata": {},
   "outputs": [],
   "source": [
    "# lon-lat gridpoints for plotting\n",
    "\n",
    "ax1 = [-121, -114, 31, 37]        # lon-lat plotting dimensions\n",
    "\n",
    "numx = 100\n",
    "lonplot, latplot, numy, X, Y = gridvec(ax1[0],ax1[1],numx,ax1[2],ax1[3],True)\n",
    "nplot = len(lonplot)"
   ]
  },
  {
   "cell_type": "code",
   "execution_count": null,
   "metadata": {},
   "outputs": [],
   "source": [
    "# Compute design matrix for expanding a function in terms of splines;\n",
    "# this is needed to view the tomographic models that we generate at the end.\n",
    "\n",
    "B = np.zeros((nplot,nspline))\n",
    "\n",
    "for ii in range(nspline):\n",
    "    ff = Bkspline(qlon[ii],qlat[ii],q,lonplot,latplot)\n",
    "    B[:,ii] = ff.flatten()"
   ]
  },
  {
   "cell_type": "code",
   "execution_count": null,
   "metadata": {},
   "outputs": [],
   "source": [
    "# EXAMPLE of plotting a function on the 'plotting grid' above.\n",
    "# the example model vector is is a 1 with all other entries 0\n",
    "\n",
    "mex = np.zeros((nspline,1))\n",
    "mex[95] = 1\n",
    "cex = np.matmul(B,mex)      # dimension nplot x 1\n",
    "\n",
    "print(cex.shape)\n",
    "\n",
    "# two options\n",
    "plt.figure(num=1)\n",
    "plt.scatter(lonplot.flatten(),latplot.flatten(),s=4,c=cex)\n",
    "\n",
    "Cex = np.reshape(cex,(numy,numx))\n",
    "plt.figure(num=2)\n",
    "plt.pcolor(X,Y,Cex,shading='nearest')\n",
    "\n",
    "plt.show()"
   ]
  },
  {
   "cell_type": "code",
   "execution_count": null,
   "metadata": {},
   "outputs": [],
   "source": [
    "# INVERSE PROBLEM\n"
   ]
  },
  {
   "cell_type": "code",
   "execution_count": null,
   "metadata": {},
   "outputs": [],
   "source": [
    "# PLOTTING THE SOLUTION(S)\n",
    "\n",
    "# values from GMT 'seis' color palette \n",
    "\n",
    "seis = np.array([[170,0,0],\n",
    "                 [206,0,0],\n",
    "                 [243,0,0],\n",
    "                 [255,24,0],\n",
    "                 [255,60,0],\n",
    "                 [255,97,0],\n",
    "                 [255,133,0],\n",
    "                 [255,170,0],\n",
    "                 [255,206,0],\n",
    "                 [255,243,0],\n",
    "                 [255,255,0],\n",
    "                 [255,255,0],\n",
    "                 [231,255,4],\n",
    "                 [161,255,17],\n",
    "                 [90,255,30],\n",
    "                 [51,249,64],\n",
    "                 [13,242,99],\n",
    "                 [0,194,152],\n",
    "                 [0,125,214],\n",
    "                 [0,68,248],\n",
    "                 [0,34,226]])/255\n",
    "\n",
    "# Make a new cmap\n",
    "seis_cmap = LCm(seis)\n"
   ]
  }
 ],
 "metadata": {
  "kernelspec": {
   "display_name": "Python 3",
   "language": "python",
   "name": "python3"
  },
  "language_info": {
   "codemirror_mode": {
    "name": "ipython",
    "version": 3
   },
   "file_extension": ".py",
   "mimetype": "text/x-python",
   "name": "python",
   "nbconvert_exporter": "python",
   "pygments_lexer": "ipython3",
   "version": "3.8.6"
  }
 },
 "nbformat": 4,
 "nbformat_minor": 4
}
