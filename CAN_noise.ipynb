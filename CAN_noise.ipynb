{
 "cells": [
  {
   "cell_type": "code",
   "execution_count": null,
   "metadata": {},
   "outputs": [],
   "source": [
    "%matplotlib inline\n",
    "import warnings\n",
    "warnings.filterwarnings('ignore')                  # do not show warnings\n",
    "from __future__ import print_function\n",
    "from scipy import interpolate, signal\n",
    "from time import *\n",
    "from obspy import *\n",
    "from obspy.core import read, UTCDateTime\n",
    "from obspy.clients.fdsn import Client\n",
    "from obspy.signal.cross_correlation import xcorr_pick_correction\n",
    "from obspy.signal.filter import lowpass\n",
    "from matplotlib.mlab import detrend\n",
    "from obspy.signal.invsim import cosine_taper\n",
    "from wf_fft import wf_fft\n",
    "from smooth import smooth\n",
    "import numpy as np\n",
    "import matplotlib.pylab as plt\n",
    "import os\n",
    "import glob\n",
    "import wave\n",
    "import struct\n",
    "plt.style.use('ggplot')\n",
    "plt.rcParams['figure.figsize'] = 10, 6\n",
    "plt.rcParams['lines.linewidth'] = 1\n",
    "\n",
    "# Adaptation of CAN_noise.m by Carl Tape\n",
    "# Coding by: Yongki Aiman, Tomy Gunawan, Angel Ling\n",
    "# Analyzing the noise time series at CAN\n",
    "\n",
    "# wf_fft and smooth are homebrewed functions.\n",
    "# They MUST be in your working directory\n",
    "\n",
    "# Run this cell before the beginning of each session"
   ]
  },
  {
   "cell_type": "code",
   "execution_count": null,
   "metadata": {},
   "outputs": [],
   "source": [
    "# Getting the waveform\n",
    "\n",
    "client = Client(\"IRIS\")\n",
    "t = UTCDateTime(\"2004-12-26T00:58:53.0\")\n",
    "starttime = t-(9*24*3600) # 10 days before the Sumatra earthquake\n",
    "endtime = t # the original time of the Sumatra earthquake\n",
    "\n",
    "st = client.get_waveforms(\"G\", \"CAN\", \"*\", \"LHZ\", starttime, endtime, attach_response=True)\n",
    "print(st)"
   ]
  },
  {
   "cell_type": "code",
   "execution_count": null,
   "metadata": {},
   "outputs": [],
   "source": [
    "# Plotting signals\n",
    "tr = st[0]\n",
    "times = st[0].times()\n",
    "trace_data = tr.data\n",
    "\n",
    "title = 'CAN (LHZ) − starting '+ str(st[0].stats['starttime'])\n",
    "\n",
    "plt.plot(times,tr.data,color='b')\n",
    "plt.title(title)\n",
    "plt.xlabel('seconds')\n",
    "plt.ylabel('counts')\n",
    "plt.show();"
   ]
  },
  {
   "cell_type": "code",
   "execution_count": null,
   "metadata": {},
   "outputs": [],
   "source": [
    "# Extract a subset time series\n",
    "t1 = UTCDateTime(\"2004-12-26T00:58:53.0\")\n",
    "starttime1 = t-(9*24*3600) # Change this to a window with no visible earthquakes!\n",
    "endtime1 = t # Change this to a window with no visible earthquakes!\n",
    "\n",
    "st1 = client.get_waveforms(\"G\", \"CAN\", \"*\", \"LHZ\", starttime1, endtime1, attach_response=True)\n",
    "print(st1)\n",
    "\n",
    "# Plotting signals\n",
    "title = 'CAN (LHZ) − starting '+ str(st1[0].stats['starttime'])\n",
    "\n",
    "plt.plot(st1[0].times()/3600,st1[0].data,color='b')\n",
    "plt.title(title)\n",
    "plt.xlabel('hours')\n",
    "plt.ylabel('counts')\n",
    "\n",
    "plt.show();"
   ]
  },
  {
   "cell_type": "code",
   "execution_count": null,
   "metadata": {},
   "outputs": [],
   "source": [
    "# Spectral analysis and decovolution starts here\n",
    "\n"
   ]
  },
  {
   "cell_type": "code",
   "execution_count": null,
   "metadata": {},
   "outputs": [],
   "source": []
  }
 ],
 "metadata": {
  "celltoolbar": "Tags",
  "kernelspec": {
   "display_name": "seismo",
   "language": "python",
   "name": "seismo"
  },
  "language_info": {
   "codemirror_mode": {
    "name": "ipython",
    "version": 3
   },
   "file_extension": ".py",
   "mimetype": "text/x-python",
   "name": "python",
   "nbconvert_exporter": "python",
   "pygments_lexer": "ipython3",
   "version": "3.8.3"
  }
 },
 "nbformat": 4,
 "nbformat_minor": 4
}
