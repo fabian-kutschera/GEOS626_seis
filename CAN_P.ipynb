{
 "cells": [
  {
   "cell_type": "code",
   "execution_count": null,
   "metadata": {},
   "outputs": [],
   "source": [
    "%matplotlib inline\n",
    "import warnings\n",
    "warnings.filterwarnings('ignore')                  # do not show warnings\n",
    "from __future__ import print_function\n",
    "from scipy import interpolate, signal\n",
    "from time import *\n",
    "from obspy import *\n",
    "from obspy.core import read, UTCDateTime\n",
    "from obspy.clients.fdsn import Client\n",
    "from obspy.signal.cross_correlation import xcorr_pick_correction\n",
    "from obspy.signal.filter import lowpass\n",
    "from matplotlib.mlab import detrend\n",
    "from obspy.signal.invsim import cosine_taper \n",
    "from wf_fft import wf_fft\n",
    "import numpy as np\n",
    "import matplotlib.pylab as plt\n",
    "import os\n",
    "import glob\n",
    "import struct\n",
    "plt.style.use('ggplot')\n",
    "plt.rcParams['figure.figsize'] = 10, 6\n",
    "plt.rcParams['lines.linewidth'] = 1\n",
    "\n",
    "# Adaptation of CAN_P.m by Carl Tape\n",
    "# Coding by: Yongki Aiman, Tomy Gunawan, Angel Ling\n",
    "# Analyzing the Sumatra P wave\n",
    "\n",
    "# wf_fft is a homebrewed function.\n",
    "# It MUST be in your working directory\n",
    "\n",
    "# Run this cell before the beginning of each session"
   ]
  },
  {
   "cell_type": "code",
   "execution_count": null,
   "metadata": {},
   "outputs": [],
   "source": [
    "# Getting the all three components\n",
    "\n",
    "client = Client(\"IRIS\")\n",
    "t = UTCDateTime(\"2004-12-26T00:52:23.900\")\n",
    "starttime = t-(1*3600) # 1 hr before the earthquake\n",
    "endtime = t+(3*3600) # 3 hrs after the earthquake\n",
    "\n",
    "st = client.get_waveforms(\"G\", \"CAN\", \"*\", \"B*\", starttime, endtime, attach_response=True)\n",
    "print(st)"
   ]
  },
  {
   "cell_type": "code",
   "execution_count": null,
   "metadata": {},
   "outputs": [],
   "source": [
    "# Plot all three components\n",
    "can = st.copy()\n",
    "\n",
    "can_e = can[0].data\n",
    "can_n = can[1].data\n",
    "can_z = can[2].data\n",
    "times = can[0].times()\n",
    "\n",
    "title_e = 'CAN (BHE) − starting '+ str(can[0].stats['starttime'])\n",
    "title_n = 'CAN (BHN) − starting '+ str(can[0].stats['starttime'])\n",
    "title_z = 'CAN (BHZ) − starting '+ str(can[0].stats['starttime'])\n",
    "\n",
    "fig, (ax1,ax2,ax3) = plt.subplots(3,1)\n",
    "fig.set_size_inches(10,16)\n",
    "\n",
    "ax1.plot(times,can_e, color='b')\n",
    "ax1.set(xlabel='seconds',ylabel='counts',title=title_e)\n",
    "\n",
    "ax2.plot(times,can_n, color='b')\n",
    "ax2.set(xlabel='seconds',ylabel='counts',title=title_n)\n",
    "\n",
    "ax3.plot(times,can_z, color='b')\n",
    "ax3.set(xlabel='seconds',ylabel='counts',title=title_z)\n",
    "\n",
    "plt.show();"
   ]
  },
  {
   "cell_type": "code",
   "execution_count": null,
   "metadata": {},
   "outputs": [],
   "source": [
    "# Now examine the Z component only\n",
    "\n",
    "plt.plot(times,can_z,color='b')\n",
    "plt.title(title_z)\n",
    "plt.xlabel('seconds')\n",
    "plt.ylabel('counts')\n",
    "\n",
    "plt.show();"
   ]
  },
  {
   "cell_type": "code",
   "execution_count": null,
   "metadata": {},
   "outputs": [],
   "source": [
    "# Extract a subset time series\n",
    "t1 = UTCDateTime(\"2004-12-26T00:52:23.900\")\n",
    "starttime1 = t1-(1*3600) # Change these to 'pick' the P wave!\n",
    "endtime1 = t1+(3*3600) # Change these to 'pick' the P wave!\n",
    "\n",
    "st1 = client.get_waveforms(\"G\", \"CAN\", \"*\", \"BHZ\", starttime1, endtime1, attach_response=True)\n",
    "print(st1)\n",
    "\n",
    "# Plot your trace\n",
    "y = st1[0].data\n",
    "times = st1[0].times()\n",
    "npts = st1[0].stats.npts\n",
    "df = st1[0].stats.sampling_rate\n",
    "fNy = df / 2.0\n",
    "\n",
    "title = 'CAN (BHZ) − starting '+ str(st1[0].stats['starttime'])\n",
    "\n",
    "plt.plot(times,st1[0].data, color='b')\n",
    "plt.xlabel('seconds')\n",
    "plt.ylabel('counts')\n",
    "plt.title(title)\n",
    "plt.show()"
   ]
  },
  {
   "cell_type": "code",
   "execution_count": null,
   "metadata": {},
   "outputs": [],
   "source": [
    "# Do spectral analysis here\n",
    "\n"
   ]
  },
  {
   "cell_type": "code",
   "execution_count": null,
   "metadata": {},
   "outputs": [],
   "source": []
  }
 ],
 "metadata": {
  "celltoolbar": "Tags",
  "kernelspec": {
   "display_name": "Python 3",
   "language": "python",
   "name": "python3"
  },
  "language_info": {
   "codemirror_mode": {
    "name": "ipython",
    "version": 3
   },
   "file_extension": ".py",
   "mimetype": "text/x-python",
   "name": "python",
   "nbconvert_exporter": "python",
   "pygments_lexer": "ipython3",
   "version": "3.8.6"
  }
 },
 "nbformat": 4,
 "nbformat_minor": 4
}
