{
 "cells": [
  {
   "cell_type": "code",
   "execution_count": null,
   "metadata": {},
   "outputs": [],
   "source": [
    "%matplotlib inline\n",
    "\n",
    "import numpy as np\n",
    "import matplotlib.pyplot as plt\n",
    "import scipy as sp\n",
    "from scipy.interpolate import griddata\n",
    "from numpy.random import random_sample\n",
    "from Bkspline import Bkspline\n",
    "from gridvec import gridvec\n",
    "from griddataXB import griddataXB\n",
    "\n",
    "plt.rcParams['figure.figsize'] = 10, 8\n",
    "plt.rcParams.update({'font.size': 9})\n",
    "\n",
    "# Python adaptation of run_Bkspline.m by Carl Tape\n",
    "# Coding by Amanda McPherson, 2021\n",
    "\n",
    "# This is a plotting test function for Bkspline.m, which returns a\n",
    "# spherical spline basis function at specifited lat-lon points.\n",
    "# It also returns the spatial derivatives of the basis function,\n",
    "# which are useful for representating derivatives of target functions,\n",
    "# as well as for damping."
   ]
  },
  {
   "cell_type": "code",
   "execution_count": null,
   "metadata": {},
   "outputs": [],
   "source": [
    "# Set up constants, and create sample data\n",
    "\n",
    "deg = 180/np.pi\n",
    "\n",
    "# create sample data\n",
    "numx = 200\n",
    "ax1 = [-122, -114, 32, 37]\n",
    "lonmin = ax1[0] \n",
    "lonmax = ax1[1]\n",
    "latmin = ax1[2]\n",
    "latmax = ax1[3]\n",
    "lon, lat, numy = gridvec(lonmin,lonmax,numx,latmin,latmax)\n",
    "\n",
    "# select sample spline (DEFAULT: pick one at random)\n",
    "q = 6      # KEY: determines the scalelength of the spline (q = 0-10)\n",
    "clon = (lonmax - lonmin)*random_sample() + lonmin\n",
    "clat = (latmax - latmin)*random_sample() + latmin\n",
    "\n",
    "# evaluate spline function\n",
    "ff = Bkspline(clon, clat, q, lon, lat)"
   ]
  },
  {
   "cell_type": "code",
   "execution_count": null,
   "metadata": {},
   "outputs": [],
   "source": [
    "# Plot sample data\n",
    "\n",
    "X, Y, Z = griddataXB(lon,lat,ff[:,0],100,'cubic')\n",
    "plt.pcolor(X,Y,Z,shading='nearest',vmin=0,vmax=1)\n",
    "plt.axis(ax1)\n",
    "plt.colorbar()\n",
    "plt.xlabel('Longitude (deg)')\n",
    "plt.ylabel('Latitude (deg)')\n",
    "plt.title('Spherical spline basis function, order q=%i, centered at lon=%.2f, lat=%.2f'% (q,clon,clat))\n",
    "plt.show()"
   ]
  },
  {
   "cell_type": "code",
   "execution_count": null,
   "metadata": {},
   "outputs": [],
   "source": [
    "# magnitude of surface gradient of spline\n",
    "\n",
    "ncol = 5\n",
    "ff = Bkspline(clon, clat, q, lon, lat, ncol=ncol)\n",
    "\n",
    "dfdp = ff[:,1]\n",
    "dfdt = ff[:,2]\n",
    "th   = (90-lat)/deg\n",
    "\n",
    "# check the computation return Bkspline\n",
    "dfmag = np.sqrt( dfdt**2 + ((1/np.sin(th).flatten()) * dfdp)**2 )\n",
    "print(np.linalg.norm( dfmag - ff[:,4] ))\n",
    "\n",
    "d1max = np.amax([ np.amax(abs(dfdp)), np.amax(abs(dfdt)) ])\n",
    "\n",
    "# plotting\n",
    "stitd = ['f','d f / d φ','d f / d θ','∇^2 f','| ∇ f | ']\n",
    "plt.figure(num=2)\n",
    "\n",
    "for ii in range(len(stitd)):\n",
    "    X, Y, Z = griddataXB(lon,lat,ff[:,ii],100,'cubic')\n",
    "    plt.subplot(3,2,ii+1)\n",
    "    if ii == 1 or ii == 2:\n",
    "        plt.pcolor(X,Y,Z,shading='nearest',vmin=-d1max,vmax=d1max)\n",
    "    else:\n",
    "        plt.pcolor(X,Y,Z,shading='nearest')\n",
    "        \n",
    "    plt.title(stitd[ii])\n",
    "    plt.axis(ax1)\n",
    "    plt.colorbar()\n",
    "    \n",
    "plt.subplots_adjust(hspace=0.3)    \n",
    "plt.show()"
   ]
  },
  {
   "cell_type": "code",
   "execution_count": null,
   "metadata": {},
   "outputs": [],
   "source": [
    "# plot the surface gradient\n",
    "plt.figure(num=3)\n",
    "\n",
    "# create sample data\n",
    "lon, lat, numy = gridvec(lonmin,lonmax,20,latmin,latmax)\n",
    "ff = Bkspline(clon, clat, q, lon, lat, ncol=ncol)\n",
    "\n",
    "X, Y, Z = griddataXB(lon,lat,ff[:,4],100,'cubic')\n",
    "\n",
    "plt.pcolor(X,Y,Z,shading='nearest')\n",
    "plt.quiver(lon,lat,ff[:,1],-ff[:,2],color='k')    # minus sign is to plot the EAST component\n",
    "plt.title('surface gradient vector field, along with the magnitude')\n",
    "plt.axis(ax1)\n",
    "plt.colorbar()\n",
    "\n",
    "plt.show()"
   ]
  },
  {
   "cell_type": "code",
   "execution_count": null,
   "metadata": {},
   "outputs": [],
   "source": []
  }
 ],
 "metadata": {
  "kernelspec": {
   "display_name": "seismo",
   "language": "python",
   "name": "seismo"
  },
  "language_info": {
   "codemirror_mode": {
    "name": "ipython",
    "version": 3
   },
   "file_extension": ".py",
   "mimetype": "text/x-python",
   "name": "python",
   "nbconvert_exporter": "python",
   "pygments_lexer": "ipython3",
   "version": "3.8.3"
  }
 },
 "nbformat": 4,
 "nbformat_minor": 4
}
