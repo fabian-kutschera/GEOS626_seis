{
 "cells": [
  {
   "cell_type": "code",
   "execution_count": null,
   "metadata": {},
   "outputs": [],
   "source": [
    "%matplotlib inline\n",
    "\n",
    "try:\n",
    "    from sympy.matrices import Matrix # symbolic math package\n",
    "except:\n",
    "    !pip install sympy --user\n",
    "    from sympy.matrices import Matrix # symbolic math package\n",
    "    \n",
    "import numpy as np\n",
    "import numpy.linalg as LA\n",
    "from scipy.linalg import null_space\n",
    "import matplotlib.pyplot as plt\n",
    "import math\n",
    "\n",
    "\n",
    "\n",
    "# Examples of working with matrices in Python\n",
    "# Amanda McPherson, 2021"
   ]
  },
  {
   "cell_type": "code",
   "execution_count": null,
   "metadata": {},
   "outputs": [],
   "source": [
    "# Create a row vector (a flattened array):\n",
    "a = np.array([1, 2, 3, 4])\n",
    "print('a = \\n',a)\n",
    "\n",
    "# Create a column vector:\n",
    "b = np.array([[5],[6],[7],[8]])\n",
    "print('b = \\n',b)\n",
    "\n",
    "# Multiply the two vectors:\n",
    "C = b*a\n",
    "print('C = \\n',C)\n",
    "\n",
    "# Transpose C\n",
    "Ct = C.T\n",
    "print('Ct = \\n',Ct)\n",
    "\n",
    "# Compute RREF of C\n",
    "# Each array within the Matrix object is a row\n",
    "C1 = Matrix(C)\n",
    "rref_mat, rref_ind = C1.rref()\n",
    "print('rref(C) = \\n', rref_mat)"
   ]
  },
  {
   "cell_type": "code",
   "execution_count": null,
   "metadata": {},
   "outputs": [],
   "source": []
  }
 ],
 "metadata": {
  "kernelspec": {
   "display_name": "seismo",
   "language": "python",
   "name": "seismo"
  },
  "language_info": {
   "codemirror_mode": {
    "name": "ipython",
    "version": 3
   },
   "file_extension": ".py",
   "mimetype": "text/x-python",
   "name": "python",
   "nbconvert_exporter": "python",
   "pygments_lexer": "ipython3",
   "version": "3.8.3"
  }
 },
 "nbformat": 4,
 "nbformat_minor": 4
}
