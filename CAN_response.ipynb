{
 "cells": [
  {
   "cell_type": "code",
   "execution_count": 1,
   "metadata": {},
   "outputs": [],
   "source": [
    "%matplotlib inline\n",
    "import warnings\n",
    "warnings.filterwarnings('ignore')                  # do not show warnings\n",
    "from __future__ import print_function\n",
    "from scipy import interpolate, signal\n",
    "from time import *\n",
    "from obspy import *\n",
    "from obspy.core import read, UTCDateTime\n",
    "from obspy.clients.fdsn import Client\n",
    "from obspy.signal.cross_correlation import xcorr_pick_correction\n",
    "from obspy.signal.filter import lowpass\n",
    "from obspy.signal.invsim import cosine_taper\n",
    "from matplotlib.mlab import detrend\n",
    "from wf_fft import wf_fft\n",
    "import numpy as np\n",
    "import matplotlib.pylab as plt\n",
    "import os\n",
    "import glob\n",
    "import wave\n",
    "import struct\n",
    "plt.style.use('ggplot')\n",
    "plt.rcParams['figure.figsize'] = 10, 6\n",
    "plt.rcParams['lines.linewidth'] = 1\n",
    "\n",
    "# Adaptation of CAN_response.m by Carl Tape\n",
    "# Coding by: Yongki Aiman, Tomy Gunawan, Angel Ling\n",
    "# The example waveform is from CAN (Canberra, Australia) for the 2004 Mw 9.X Sumatra-Andaman earthquake.\n",
    "\n",
    "# wf_fft is a homebrewed function.\n",
    "# It MUST be in your working directory\n",
    "\n",
    "# Run this cell before the beginning of each session"
   ]
  },
  {
   "cell_type": "code",
   "execution_count": 2,
   "metadata": {},
   "outputs": [
    {
     "name": "stdout",
     "output_type": "stream",
     "text": [
      "1 Trace(s) in Stream:\n",
      "G.CAN..LHZ | 2004-12-25T12:58:53.655900Z - 2005-01-04T00:58:51.655900Z | 1.0 Hz, 820799 samples\n"
     ]
    }
   ],
   "source": [
    "# Retrieve the waveform\n",
    "\n",
    "client = Client(\"IRIS\")\n",
    "t = UTCDateTime(\"2004-12-26T00:58:53.0\")\n",
    "starttime = t-(12*3600) # half day before the earthquake\n",
    "endtime = t+(9*24*3600) # 9 days after the earthquake\n",
    "\n",
    "st = client.get_waveforms(\"G\", \"CAN\", \"*\", \"LHZ\", starttime, endtime, attach_response=True)\n",
    "print(st)"
   ]
  },
  {
   "cell_type": "code",
   "execution_count": 3,
   "metadata": {},
   "outputs": [
    {
     "data": {
      "image/png": "[encoded data removed]",
      "text/plain": [
       "<Figure size 720x432 with 1 Axes>"
      ]
     },
     "metadata": {},
     "output_type": "display_data"
    }
   ],
   "source": [
    "# take a copy of the stream to avoid overwriting the original data\n",
    "can = st.copy()\n",
    "\n",
    "# Choosing the 1st stream, Specify sampling parameters and Nyquist frequency\n",
    "npts = can[0].stats.npts              # number of samples\n",
    "df = can[0].stats.sampling_rate       # sampling rate\n",
    "nsec = npts/df                        # sampling time\n",
    "fNy = df / 2.0                        # Nyquist frequency\n",
    "time = np.linspace(0,nsec,int(nsec*df))  # time axis for plotting\n",
    "\n",
    "y  = can[0].data                      # set up signal \n",
    "\n",
    "# Plot the result\n",
    "# Plot in Time Domain\n",
    "#freq = np.linspace(0, fNy, len(y_fnew))         # Frequency axis for plotting\n",
    "plt.plot(time, y, 'b', lw=2) \n",
    "plt.title('CAN (LHZ) − starting 2004−12−25 12:36:12.656')\n",
    "plt.xlabel('Time [s]')\n",
    "plt.ylabel('Counts')\n",
    "plt.show()"
   ]
  },
  {
   "cell_type": "code",
   "execution_count": 9,
   "metadata": {},
   "outputs": [],
   "source": [
    "# Compute FFT\n",
    "\n",
    "# Demean signal\n",
    "y_demean = detrend(y,'constant')\n",
    "\n",
    "# Taper signal\n",
    "taper_percentage = 1\n",
    "taper = cosine_taper(npts,taper_percentage)\n",
    "y_taper = y_demean * taper\n",
    "\n",
    "# Calculate FFT\n",
    "\n",
    "fft_amp, fft_phase, f = wf_fft(y_taper,fNy) # amplitude and phase of C(w), and frequencies\n",
    "\n",
    "C = fft_amp*np.exp(1j*fft_phase) # Fourier Transform C(w)\n"
   ]
  },
  {
   "cell_type": "code",
   "execution_count": null,
   "metadata": {},
   "outputs": [],
   "source": [
    "# Homework exercises start here!\n",
    "\n"
   ]
  },
  {
   "cell_type": "code",
   "execution_count": null,
   "metadata": {},
   "outputs": [],
   "source": []
  }
 ],
 "metadata": {
  "celltoolbar": "Tags",
  "kernelspec": {
   "display_name": "seismo",
   "language": "python",
   "name": "seismo"
  },
  "language_info": {
   "codemirror_mode": {
    "name": "ipython",
    "version": 3
   },
   "file_extension": ".py",
   "mimetype": "text/x-python",
   "name": "python",
   "nbconvert_exporter": "python",
   "pygments_lexer": "ipython3",
   "version": "3.8.3"
  }
 },
 "nbformat": 4,
 "nbformat_minor": 4
}
